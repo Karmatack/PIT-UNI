{
  "nbformat": 4,
  "nbformat_minor": 0,
  "metadata": {
    "colab": {
      "provenance": []
    },
    "kernelspec": {
      "name": "python3",
      "display_name": "Python 3"
    },
    "language_info": {
      "name": "python"
    }
  },
  "cells": [
    {
      "cell_type": "markdown",
      "source": [
        "**Gradient Boosting Ensemble basados ​​en histogramas:**\n",
        "\n",
        "https://machinelearningmastery.com/histogram-based-gradient-boosting-ensembles/\n",
        "\n",
        "El aumento de gradiente es un conjunto de algoritmos de árboles de decisión.\n",
        "\n",
        "Puede ser una de las técnicas más populares para la clasificación estructurada (tabular) y los problemas de modelado predictivo de regresión dado que funciona muy bien en una amplia gama de conjuntos de datos en la práctica.\n",
        "\n",
        "Un problema importante del aumento de gradiente es que es lento para entrenar el modelo. Esto es particularmente un problema cuando se usa el modelo en grandes conjuntos de datos con decenas de miles de ejemplos (filas).\n",
        "\n",
        "El entrenamiento de los árboles que se agregan al conjunto se puede acelerar drásticamente al discretizar (agrupar) las variables de entrada continuas en unos pocos cientos de valores únicos. Los conjuntos de aumento de gradiente que implementan esta técnica y adaptan el algoritmo de entrenamiento en torno a las variables de entrada bajo esta transformación se denominan conjuntos de aumento de gradiente basados ​​en histogramas.\n",
        "\n",
        "Aprenderemos lo siguiente:\n",
        "\n",
        "Gradient boosting basada en histogramas es una técnica para entrenar árboles de decisión más rápidos que se utilizan en el ensemble de gradient boosting.\n",
        "\n",
        "Cómo usar la implementación experimental del gradient  boosting basado en histogramas en la biblioteca scikit-learn.\n",
        "\n",
        "Cómo usar Gradient Boosting Ensembles basados ​​en histogramas con las bibliotecas de terceros XGBoost y LightGBM."
      ],
      "metadata": {
        "id": "bpdFweKJJ1eF"
      }
    },
    {
      "cell_type": "code",
      "execution_count": null,
      "metadata": {
        "colab": {
          "base_uri": "https://localhost:8080/"
        },
        "id": "x2CHx7JTJ0qh",
        "outputId": "9edd822d-395e-4f0c-f354-74181f67a3dd"
      },
      "outputs": [
        {
          "output_type": "stream",
          "name": "stderr",
          "text": [
            "/usr/local/lib/python3.10/dist-packages/sklearn/experimental/enable_hist_gradient_boosting.py:16: UserWarning: Since version 1.0, it is not needed to import enable_hist_gradient_boosting anymore. HistGradientBoostingClassifier and HistGradientBoostingRegressor are now stable and can be normally imported from sklearn.ensemble.\n",
            "  warnings.warn(\n"
          ]
        }
      ],
      "source": [
        "# explicitly require this experimental feature\n",
        "from sklearn.experimental import enable_hist_gradient_boosting"
      ]
    },
    {
      "cell_type": "markdown",
      "source": [
        "La documentación de scikit-learn afirma que estas implementaciones de aumento de gradiente basadas en histogramas son órdenes de magnitud más rápidas que la implementación de aumento de gradiente predeterminada proporcionada por la biblioteca.\n",
        "\n",
        "HistGradientBoostingClassifier es una implementación de Gradient Boosting optimizada para conjuntos de datos grandes. La diferencia clave entre este clasificador y otros métodos de Gradient Boosting radica en cómo maneja los histogramas para mejorar la eficiencia computacional.\n",
        "\n",
        "Estos estimadores basados ​​en histogramas pueden ser mucho más rápidos que GradientBoostingClassifier y GradientBoostingRegressor cuando el número de muestras es mayor que decenas de miles de muestras.\n",
        "\n",
        "Las clases se pueden usar como cualquier otro modelo de scikit-learn.\n",
        "\n",
        "De forma predeterminada, el conjunto utiliza 255 bins para cada función de entrada continua, y esto se puede configurar a través del argumento \"max_bins\". Establecer esto en valores más pequeños, como 50 o 100, puede dar como resultado más mejoras en la eficiencia, aunque quizás a costa de algunas habilidades del modelo.\n",
        "\n",
        "El número de árboles se puede establecer a través del argumento \"max_iter\" y el valor predeterminado es 100.\n",
        "\n",
        "Cuando se entrena un modelo de Gradient Boosting, en cada iteración se ajusta un árbol débil para corregir los errores del modelo existente. Tradicionalmente, se construyen árboles considerando todas las características y calculando las divisiones óptimas para cada característica. Sin embargo, este enfoque puede ser computacionalmente costoso, especialmente en conjuntos de datos grandes.\n",
        "\n",
        "La versión \"histogram-based\" de Gradient Boosting, como la implementada en HistGradientBoostingClassifier, utiliza histogramas para reducir la complejidad computacional. En lugar de considerar todas las características y calcular divisiones precisas, este método agrupa los valores de las características en histogramas discretos. Luego, durante la construcción del árbol, se toman decisiones basadas en estos histogramas en lugar de realizar cálculos intensivos."
      ],
      "metadata": {
        "id": "IbMX7NghL5kE"
      }
    },
    {
      "cell_type": "code",
      "source": [
        "# evaluate sklearn histogram gradient boosting algorithm for classification\n",
        "from numpy import mean\n",
        "from numpy import std\n",
        "from sklearn.datasets import make_classification\n",
        "from sklearn.model_selection import cross_val_score\n",
        "from sklearn.model_selection import RepeatedStratifiedKFold\n",
        "from sklearn.experimental import enable_hist_gradient_boosting\n",
        "from sklearn.ensemble import HistGradientBoostingClassifier\n",
        "# define dataset\n",
        "X, y = make_classification(n_samples=10000, n_features=100, n_informative=50, n_redundant=50, random_state=1)\n",
        "# define the model\n",
        "model = HistGradientBoostingClassifier(max_bins=255, max_iter=100)\n",
        "# define the evaluation procedure\n",
        "cv = RepeatedStratifiedKFold(n_splits=10, n_repeats=3, random_state=1)\n",
        "# evaluate the model and collect the scores\n",
        "n_scores = cross_val_score(model, X, y, scoring='accuracy', cv=cv, n_jobs=-1)\n",
        "# report performance\n",
        "print('Accuracy: %.3f (%.3f)' % (mean(n_scores), std(n_scores)))"
      ],
      "metadata": {
        "colab": {
          "base_uri": "https://localhost:8080/"
        },
        "id": "t35gwmDUL6k3",
        "outputId": "2057871c-a0dc-4503-df95-c67467f63ebb"
      },
      "execution_count": null,
      "outputs": [
        {
          "output_type": "stream",
          "name": "stdout",
          "text": [
            "Accuracy: 0.943 (0.007)\n"
          ]
        }
      ]
    },
    {
      "cell_type": "markdown",
      "source": [
        "Ejecutar el ejemplo evalúa el rendimiento del modelo en el conjunto de datos sintéticos e informa la precisión de la clasificación de la media y la desviación estándar.\n",
        "\n",
        "Nota: Nuestros resultados pueden variar dada la naturaleza estocástica del algoritmo o procedimiento de evaluación, o las diferencias en la precisión numérica. Consideremos ejecutar el ejemplo varias veces y comparenos el resultado promedio.\n",
        "\n",
        "En este caso, podemos ver que el algoritmo de aumento de gradiente de histograma de scikit-learn logra una precisión media de alrededor del 94,3 por ciento en el conjunto de datos sintéticos.\n",
        "\n",
        "También podemos explorar el efecto del número de bins en el rendimiento del modelo.\n",
        "\n",
        "El siguiente ejemplo evalúa el rendimiento del modelo con un número diferente de bins para cada característica de entrada continua de 50 a (aproximadamente) 250 en incrementos de 50.\n",
        "\n",
        "El ejemplo completo se muestra a continuación."
      ],
      "metadata": {
        "id": "CnYTJyr2McaF"
      }
    },
    {
      "cell_type": "code",
      "source": [
        "# compare number of bins for sklearn histogram gradient boosting\n",
        "from numpy import mean\n",
        "from numpy import std\n",
        "from sklearn.datasets import make_classification\n",
        "from sklearn.model_selection import cross_val_score\n",
        "from sklearn.model_selection import RepeatedStratifiedKFold\n",
        "from sklearn.experimental import enable_hist_gradient_boosting\n",
        "from sklearn.ensemble import HistGradientBoostingClassifier\n",
        "from matplotlib import pyplot\n",
        "\n",
        "# get the dataset\n",
        "def get_dataset():\n",
        "\tX, y = make_classification(n_samples=10000, n_features=100, n_informative=50, n_redundant=50, random_state=1)\n",
        "\treturn X, y\n",
        "\n",
        "# get a list of models to evaluate\n",
        "def get_models():\n",
        "\tmodels = dict()\n",
        "\tfor i in [10, 50, 100, 150, 200, 255]:\n",
        "\t\tmodels[str(i)] = HistGradientBoostingClassifier(max_bins=i, max_iter=100)\n",
        "\treturn models\n",
        "\n",
        "# evaluate a give model using cross-validation\n",
        "def evaluate_model(model, X, y):\n",
        "\t# define the evaluation procedure\n",
        "\tcv = RepeatedStratifiedKFold(n_splits=10, n_repeats=3, random_state=1)\n",
        "\t# evaluate the model and collect the scores\n",
        "\tscores = cross_val_score(model, X, y, scoring='accuracy', cv=cv, n_jobs=-1)\n",
        "\treturn scores\n",
        "\n",
        "# define dataset\n",
        "X, y = get_dataset()\n",
        "# get the models to evaluate\n",
        "models = get_models()\n",
        "# evaluate the models and store results\n",
        "results, names = list(), list()\n",
        "for name, model in models.items():\n",
        "\t# evaluate the model and collect the scores\n",
        "\tscores = evaluate_model(model, X, y)\n",
        "\t# stores the results\n",
        "\tresults.append(scores)\n",
        "\tnames.append(name)\n",
        "\t# report performance along the way\n",
        "\tprint('>%s %.3f (%.3f)' % (name, mean(scores), std(scores)))\n",
        "# plot model performance for comparison\n",
        "pyplot.boxplot(results, labels=names, showmeans=True)\n",
        "pyplot.show()"
      ],
      "metadata": {
        "colab": {
          "base_uri": "https://localhost:8080/",
          "height": 537
        },
        "id": "vgRvvBErMkHP",
        "outputId": "e787b834-f43a-4213-c3ff-4f077cbb386f"
      },
      "execution_count": null,
      "outputs": [
        {
          "output_type": "stream",
          "name": "stdout",
          "text": [
            ">10 0.945 (0.009)\n",
            ">50 0.944 (0.007)\n",
            ">100 0.944 (0.008)\n",
            ">150 0.944 (0.008)\n",
            ">200 0.944 (0.007)\n",
            ">255 0.943 (0.007)\n"
          ]
        },
        {
          "output_type": "display_data",
          "data": {
            "text/plain": [
              "<Figure size 640x480 with 1 Axes>"
            ],
            "image/png": "[encoded data removed]"
          },
          "metadata": {}
        }
      ]
    },
    {
      "cell_type": "markdown",
      "source": [
        "Al ejecutar el ejemplo, se evalúa cada configuración, se informa la precisión de clasificación de la media y la desviación estándar a lo largo del camino y, finalmente, se crea un gráfico de la distribución de puntuaciones.\n",
        "\n",
        "Nota: Sus resultados pueden variar dada la naturaleza estocástica del algoritmo o procedimiento de evaluación, o las diferencias en la precisión numérica. Considere ejecutar el ejemplo varias veces y compare el resultado promedio.\n",
        "\n",
        "En este caso, podemos ver que aumentar la cantidad de bins puede disminuir la precisión media del modelo en este conjunto de datos.\n",
        "\n",
        "Podríamos esperar que un aumento en la cantidad de bins también requiera un aumento en la cantidad de árboles (max_iter) para garantizar que el modelo pueda explorar y aprovechar de manera efectiva los puntos de división adicionales.\n",
        "\n",
        "Es importante destacar que ajustar un conjunto donde los árboles usan 10 o 50 bins por variable es mucho más rápido que 255 bins por variable de entrada.\n",
        "\n",
        ">10 0,945 (0,009)\n",
        ">50 0,944 (0,007)\n",
        ">100 0,944 (0,008)\n",
        ">150 0,944 (0,008)\n",
        ">200 0,944 (0,007)\n",
        ">255 0,943 (0,007)\n",
        "Se crea una figura que compara la distribución de las puntuaciones de precisión para cada configuración mediante diagramas de caja y bigotes.\n",
        "\n",
        "En este caso, podemos ver que aumentar el número de bins en el histograma parece reducir la dispersión de la distribución, aunque puede disminuir el rendimiento medio del modelo."
      ],
      "metadata": {
        "id": "0Hl3eRqIMqeI"
      }
    },
    {
      "cell_type": "markdown",
      "source": [
        "**Gradient Boosting de histograma con XGBoost:**\n",
        "\n",
        "Extreme Gradient Boosting, o XGBoost para abreviar, es una biblioteca que proporciona una implementación altamente optimizada de aumento de gradiente.\n",
        "\n",
        "Una de las técnicas implementadas en la biblioteca es el uso de histogramas para las variables de entrada continuas.\n",
        "\n",
        "La biblioteca XGBoost se puede instalar usando su administrador de paquetes de Python favorito, como Pip;\n",
        "\n",
        "Podemos desarrollar modelos XGBoost para usar con la biblioteca scikit-learn a través de las clases XGBClassifier y XGBRegressor.\n",
        "\n",
        "El algoritmo de entrenamiento se puede configurar para usar el método de histograma configurando el argumento \"tree_method\" en 'aprox', y la cantidad de bins se puede configurar a través del argumento \"max_bin\".\n",
        "\n",
        "modelo = XGBClassifier(tree_method='approx', max_bin=255, n_estimators=100)\n",
        "\n",
        "El siguiente ejemplo demuestra la evaluación de un modelo XGBoost configurado para usar el histograma o la técnica aproximada para construir árboles con 255 bins por entidad de entrada continua y 100 árboles en el modelo."
      ],
      "metadata": {
        "id": "es6gYnfiM1j4"
      }
    },
    {
      "cell_type": "code",
      "source": [
        "pip install xgboost"
      ],
      "metadata": {
        "colab": {
          "base_uri": "https://localhost:8080/"
        },
        "id": "QwKSDROiNDmy",
        "outputId": "2e5c8379-5005-4ea2-cb00-35029fec2568"
      },
      "execution_count": null,
      "outputs": [
        {
          "output_type": "stream",
          "name": "stdout",
          "text": [
            "Requirement already satisfied: xgboost in /usr/local/lib/python3.10/dist-packages (2.0.3)\n",
            "Requirement already satisfied: numpy in /usr/local/lib/python3.10/dist-packages (from xgboost) (1.23.5)\n",
            "Requirement already satisfied: scipy in /usr/local/lib/python3.10/dist-packages (from xgboost) (1.11.4)\n"
          ]
        }
      ]
    },
    {
      "cell_type": "code",
      "source": [
        "# evaluate xgboost histogram gradient boosting algorithm for classification\n",
        "from numpy import mean\n",
        "from numpy import std\n",
        "from sklearn.datasets import make_classification\n",
        "from sklearn.model_selection import cross_val_score\n",
        "from sklearn.model_selection import RepeatedStratifiedKFold\n",
        "from xgboost import XGBClassifier\n",
        "# define dataset\n",
        "X, y = make_classification(n_samples=10000, n_features=100, n_informative=50, n_redundant=50, random_state=1)\n",
        "# define the model\n",
        "model = XGBClassifier(tree_method='approx', max_bin=255, n_estimators=100)\n",
        "# define the evaluation procedure\n",
        "cv = RepeatedStratifiedKFold(n_splits=10, n_repeats=3, random_state=1)\n",
        "# evaluate the model and collect the scores\n",
        "n_scores = cross_val_score(model, X, y, scoring='accuracy', cv=cv, n_jobs=-1)\n",
        "# report performance\n",
        "print('Accuracy: %.3f (%.3f)' % (mean(n_scores), std(n_scores)))"
      ],
      "metadata": {
        "colab": {
          "base_uri": "https://localhost:8080/"
        },
        "id": "u3rtQun8M0IN",
        "outputId": "f7f2e7b7-b206-4111-dc4e-94b4c5b9a891"
      },
      "execution_count": null,
      "outputs": [
        {
          "output_type": "stream",
          "name": "stdout",
          "text": [
            "Accuracy: 0.956 (0.007)\n"
          ]
        }
      ]
    },
    {
      "cell_type": "markdown",
      "source": [
        "Ejecutar el ejemplo evalúa el rendimiento del modelo en el conjunto de datos sintéticos e informa la precisión de la clasificación de la media y la desviación estándar.\n",
        "\n",
        "**Nota:** Sus resultados pueden variar dada la naturaleza estocástica del algoritmo o procedimiento de evaluación, o las diferencias en la precisión numérica. Considere ejecutar el ejemplo varias veces y compare el resultado promedio.\n",
        "\n",
        "En este caso, podemos ver que el algoritmo de aumento de gradiente de histograma XGBoost logra una precisión media de alrededor del 95,7 por ciento en el conjunto de datos sintético.\n",
        "\n",
        "Precisión: 0,957 (0,007)\n",
        "\n",
        "**Gradient Boosting de histograma con LightGBM:**\n",
        "\n",
        "Light Gradient Boosting Machine o LightGBM para abreviar es otra biblioteca de terceros como XGBoost que proporciona una implementación altamente optimizada de aumento de gradiente.\n",
        "\n",
        "Es posible que haya implementado la técnica de histograma antes de XGBoost, pero XGBoost implementó más tarde la misma técnica, destacando la competencia de \"eficiencia de aumento de gradiente\" entre las bibliotecas de aumento de gradiente.\n",
        "\n",
        "La biblioteca LightGBM se puede instalar utilizando su administrador de paquetes favorito de Python, como Pip; Por ejemplo:"
      ],
      "metadata": {
        "id": "ZKl2U_A_NXlR"
      }
    },
    {
      "cell_type": "code",
      "source": [
        "pip install lightgbm"
      ],
      "metadata": {
        "colab": {
          "base_uri": "https://localhost:8080/"
        },
        "id": "XPEdg6klNf2H",
        "outputId": "abe1d142-5797-49d7-feaf-3fcc0fba6201"
      },
      "execution_count": null,
      "outputs": [
        {
          "output_type": "stream",
          "name": "stdout",
          "text": [
            "Requirement already satisfied: lightgbm in /usr/local/lib/python3.10/dist-packages (4.1.0)\n",
            "Requirement already satisfied: numpy in /usr/local/lib/python3.10/dist-packages (from lightgbm) (1.23.5)\n",
            "Requirement already satisfied: scipy in /usr/local/lib/python3.10/dist-packages (from lightgbm) (1.11.4)\n"
          ]
        }
      ]
    },
    {
      "cell_type": "markdown",
      "source": [
        "Podemos desarrollar modelos LightGBM para usar con la biblioteca scikit-learn a través de las clases LGBMClassifier y LGBMRegressor.\n",
        "\n",
        "El algoritmo de entrenamiento usa histogramas por defecto. Los bins máximos por variable de entrada continua se pueden establecer a través del argumento \"max_bin\".\n",
        "\n",
        "modelo = LGBMClassifier(max_bin=255, n_estimators=100)\n",
        "\n",
        "El siguiente ejemplo demuestra la evaluación de un modelo LightGBM configurado para usar el histograma o la técnica aproximada para construir árboles con 255 bins por entidad de entrada continua y 100 árboles en el modelo."
      ],
      "metadata": {
        "id": "tK7pf9KMNozo"
      }
    },
    {
      "cell_type": "code",
      "source": [
        "# evaluate lightgbm histogram gradient boosting algorithm for classification\n",
        "from numpy import mean\n",
        "from numpy import std\n",
        "from sklearn.datasets import make_classification\n",
        "from sklearn.model_selection import cross_val_score\n",
        "from sklearn.model_selection import RepeatedStratifiedKFold\n",
        "from lightgbm import LGBMClassifier\n",
        "# define dataset\n",
        "X, y = make_classification(n_samples=10000, n_features=100, n_informative=50, n_redundant=50, random_state=1)\n",
        "# define the model\n",
        "model = LGBMClassifier(max_bin=255, n_estimators=100)\n",
        "# define the evaluation procedure\n",
        "cv = RepeatedStratifiedKFold(n_splits=10, n_repeats=3, random_state=1)\n",
        "# evaluate the model and collect the scores\n",
        "n_scores = cross_val_score(model, X, y, scoring='accuracy', cv=cv, n_jobs=-1)\n",
        "# report performance\n",
        "print('Accuracy: %.3f (%.3f)' % (mean(n_scores), std(n_scores)))"
      ],
      "metadata": {
        "colab": {
          "base_uri": "https://localhost:8080/"
        },
        "id": "kHKxFvkoNtRb",
        "outputId": "e3542000-fb0b-45df-8c5c-656c1315c387"
      },
      "execution_count": null,
      "outputs": [
        {
          "output_type": "stream",
          "name": "stdout",
          "text": [
            "Accuracy: 0.943 (0.008)\n"
          ]
        }
      ]
    },
    {
      "cell_type": "markdown",
      "source": [
        "Ejecutar el ejemplo evalúa el rendimiento del modelo en el conjunto de datos sintéticos e informa la precisión de la clasificación de la media y la desviación estándar.\n",
        "\n",
        "**Nota:** Nuestos resultados pueden variar dada la naturaleza estocástica del algoritmo o procedimiento de evaluación, o las diferencias en la precisión numérica. Consideremos ejecutar el ejemplo varias veces y comparemos el resultado promedio.\n",
        "\n",
        "En este caso, podemos ver que el algoritmo de aumento de gradiente de histograma LightGBM logra una precisión media de alrededor del 94,2 por ciento en el conjunto de datos sintéticos."
      ],
      "metadata": {
        "id": "q1OY0xk-Ny4O"
      }
    }
  ]
}