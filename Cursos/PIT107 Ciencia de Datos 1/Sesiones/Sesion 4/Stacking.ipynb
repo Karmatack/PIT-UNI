{
  "nbformat": 4,
  "nbformat_minor": 0,
  "metadata": {
    "colab": {
      "provenance": []
    },
    "kernelspec": {
      "name": "python3",
      "display_name": "Python 3"
    },
    "language_info": {
      "name": "python"
    }
  },
  "cells": [
    {
      "cell_type": "markdown",
      "source": [
        "https://machinelearningmastery.com/stacking-ensemble-machine-learning-with-python/"
      ],
      "metadata": {
        "id": "syCo3D_GVYxx"
      }
    },
    {
      "cell_type": "markdown",
      "source": [
        "**Stacking Ensemble:**\n",
        "\n",
        "La generalización apilada o \"stacking\" para abreviar es un algoritmo de aprendizaje automático conjunto.\n",
        "\n",
        "Implica combinar las predicciones de múltiples modelos de aprendizaje automático en el mismo conjunto de datos, como bagging y boosting.\n",
        "\n",
        "El stacking responde a la pregunta:\n",
        "\n",
        "Dados múltiples modelos de aprendizaje automático que son hábiles en un problema, pero de diferentes maneras, ¿cómo elige qué modelo usar (confianza)?\n",
        "El enfoque de esta pregunta es usar otro modelo de aprendizaje automático que aprenda cuándo usar o confiar en cada modelo del conjunto.\n",
        "\n",
        "A diferencia del bagging, en el stacking, los modelos suelen ser diferentes (p. ej., no todos los árboles de decisión) y se ajustan al mismo conjunto de datos (p. ej., en lugar de muestras del conjunto de datos de entrenamiento).\n",
        "\n",
        "A diferencia del boosting, en el stacking, se usa un solo modelo para aprender cómo combinar mejor las predicciones de los modelos contribuyentes (por ejemplo, en lugar de una secuencia de modelos que corrigen las predicciones de modelos anteriores).\n",
        "\n",
        "La arquitectura de un modelo de stacking implica dos o más modelos base, a menudo denominados modelos de nivel 0, y un metamodelo que combina las predicciones de los modelos base, denominado modelo de nivel 1.\n",
        "\n",
        "Modelos de nivel 0 (modelos base): modelos que se ajustan a los datos de entrenamiento y cuyas predicciones se compilan.\n",
        "\n",
        "Modelo de nivel 1 (metamodelo): modelo que aprende a combinar mejor las predicciones de los modelos base.\n",
        "\n",
        "El metamodelo se entrena en las predicciones realizadas por los modelos base sobre datos fuera de la muestra. Es decir, los datos que no se usan para entrenar los modelos base se alimentan a los modelos base, se realizan predicciones y estas predicciones, junto con los resultados esperados, proporcionan los pares de entrada y salida del conjunto de datos de entrenamiento que se usa para ajustar el metamodelo.\n",
        "\n",
        "Los resultados de los modelos base utilizados como entrada para el metamodelo pueden ser valores reales en el caso de la regresión y valores de probabilidad, valores similares a la probabilidad o etiquetas de clase en el caso de la clasificación.\n",
        "\n",
        "El enfoque más común para preparar el conjunto de datos de entrenamiento para el metamodelo es a través de la validación cruzada de k-fold de los modelos base, donde las predicciones fuera del pliegue se utilizan como base para el conjunto de datos de entrenamiento para el metamodelo.\n",
        "\n",
        "Los datos de entrenamiento para el metamodelo también pueden incluir las entradas a los modelos base, p. elementos de entrada de los datos de entrenamiento. Esto puede proporcionar un contexto adicional al metamodelo sobre cómo combinar mejor las predicciones del metamodelo.\n",
        "\n",
        "Una vez que el conjunto de datos de entrenamiento está preparado para el metamodelo, el metamodelo se puede entrenar de forma aislada en este conjunto de datos y los modelos base se pueden entrenar en todo el conjunto de datos de entrenamiento original.\n",
        "\n",
        "El stacking es apropiado cuando varios modelos diferentes de aprendizaje automático tienen habilidad en un conjunto de datos, pero tienen habilidad de diferentes maneras. Otra forma de decir esto es que las predicciones hechas por los modelos o los errores en las predicciones hechas por los modelos no están correlacionados o tienen una correlación baja.\n",
        "\n",
        "Los modelos base suelen ser complejos y diversos. Como tal, a menudo es una buena idea usar una variedad de modelos que hacen suposiciones muy diferentes sobre cómo resolver la tarea de modelado predictivo, como modelos lineales, árboles de decisión, máquinas de vectores de soporte, redes neuronales y más. También se pueden usar otros algoritmos de conjunto como modelos base, como bosques aleatorios.\n",
        "\n",
        "Modelos base: use una amplia gama de modelos que hacen diferentes suposiciones sobre la tarea de predicción.\n",
        "El metamodelo suele ser simple y proporciona una interpretación fluida de las predicciones realizadas por los modelos base. Como tal, los modelos lineales a menudo se usan como metamodelo, como la regresión lineal para tareas de regresión (predecir un valor numérico) y la regresión logística para tareas de clasificación (predecir una etiqueta de clase). Aunque esto es común, no es obligatorio.\n",
        "\n",
        "Metamodelo de regresión: regresión lineal.\n",
        "\n",
        "Meta-Modelo de Clasificación: Regresión Logística.\n",
        "\n",
        "El uso de un modelo lineal simple como metamodelo a menudo le da al stacking el nombre coloquial de \"mezcla\". Al igual que en la predicción, es un promedio ponderado o una combinación de las predicciones realizadas por los modelos base.\n",
        "\n",
        "El súper alumno puede considerarse un tipo especializado de stacking.\n",
        "\n",
        "El stacking está diseñado para mejorar el rendimiento del modelado, aunque no se garantiza que resulte en una mejora en todos los casos.\n",
        "\n",
        "Lograr una mejora en el rendimiento depende de la complejidad del problema y de si está lo suficientemente bien representado por los datos de entrenamiento y lo suficientemente complejo como para que haya más que aprender al combinar las predicciones. También depende de la elección de los modelos base y de si son lo suficientemente hábiles y no correlacionados en sus predicciones (o errores).\n",
        "\n",
        "Si un modelo base funciona igual o mejor que el stacking ensemble, se debe usar el modelo base en su lugar, dada su menor complejidad (por ejemplo, es más simple de describir, entrenar y mantener)."
      ],
      "metadata": {
        "id": "-JHZsHG1OZdP"
      }
    },
    {
      "cell_type": "markdown",
      "source": [
        "**Stacking para clasificación:**\n",
        "\n",
        "En esta sección, veremos el uso del stacking para un problema de clasificación.\n",
        "\n",
        "Primero, podemos usar la función make_classification() para crear un problema de clasificación binaria sintética con 1000 ejemplos y 20 características de entrada.\n",
        "\n",
        "El ejemplo completo se muestra a continuación."
      ],
      "metadata": {
        "id": "YNMQsBsRPQwM"
      }
    },
    {
      "cell_type": "code",
      "execution_count": null,
      "metadata": {
        "colab": {
          "base_uri": "https://localhost:8080/"
        },
        "id": "dAo-yPO7OLD_",
        "outputId": "00ec85b3-a32c-47fa-c596-c7254bcf5eab"
      },
      "outputs": [
        {
          "output_type": "stream",
          "name": "stdout",
          "text": [
            "(1000, 20) (1000,)\n"
          ]
        }
      ],
      "source": [
        "# test classification dataset\n",
        "from sklearn.datasets import make_classification\n",
        "# define dataset\n",
        "X, y = make_classification(n_samples=1000, n_features=20, n_informative=15, n_redundant=5, random_state=1)\n",
        "# summarize the dataset\n",
        "print(X.shape, y.shape)"
      ]
    },
    {
      "cell_type": "markdown",
      "source": [
        "A continuación, podemos evaluar un conjunto de diferentes modelos de aprendizaje automático en el conjunto de datos.\n",
        "\n",
        "Específicamente, evaluaremos los siguientes cinco algoritmos:\n",
        "\n",
        "Regresión logística.\n",
        "\n",
        "k-Vecinos más cercanos.\n",
        "\n",
        "Árbol de decisión.\n",
        "\n",
        "Máquinas de vectores soporte.\n",
        "\n",
        "Naive Bayes.\n",
        "\n",
        "Cada algoritmo se evaluará utilizando los hiperparámetros del modelo predeterminado. La función get_models() a continuación crea los modelos que deseamos evaluar."
      ],
      "metadata": {
        "id": "7gGQWlPyPctX"
      }
    },
    {
      "cell_type": "code",
      "source": [
        "# get a list of models to evaluate\n",
        "def get_models():\n",
        "\tmodels = dict()\n",
        "\tmodels['lr'] = LogisticRegression()\n",
        "\tmodels['knn'] = KNeighborsClassifier()\n",
        "\tmodels['cart'] = DecisionTreeClassifier()\n",
        "\tmodels['svm'] = SVC()\n",
        "\tmodels['bayes'] = GaussianNB()\n",
        "\treturn models"
      ],
      "metadata": {
        "id": "OX8EnhRQPb37"
      },
      "execution_count": null,
      "outputs": []
    },
    {
      "cell_type": "markdown",
      "source": [
        "Cada modelo se evaluará utilizando una validación cruzada repetida de k-fold.\n",
        "\n",
        "La función evaluar_modelo () a continuación toma una instancia de modelo y devuelve una lista de puntajes de tres repeticiones de validación cruzada estratificada de 10 veces."
      ],
      "metadata": {
        "id": "QK5iUXo0PxU-"
      }
    },
    {
      "cell_type": "code",
      "source": [
        "# evaluate a given model using cross-validation\n",
        "def evaluate_model(model, X, y):\n",
        "\tcv = RepeatedStratifiedKFold(n_splits=10, n_repeats=3, random_state=1)\n",
        "\tscores = cross_val_score(model, X, y, scoring='accuracy', cv=cv, n_jobs=-1, error_score='raise')\n",
        "\treturn scores"
      ],
      "metadata": {
        "id": "Fyz91h6iP0uL"
      },
      "execution_count": null,
      "outputs": []
    },
    {
      "cell_type": "markdown",
      "source": [
        "Luego podemos informar el rendimiento medio de cada algoritmo y también crear un diagrama de caja y bigotes para comparar la distribución de las puntuaciones de precisión para cada algoritmo.\n",
        "\n",
        "Uniendo esto, el ejemplo completo se enumera a continuación."
      ],
      "metadata": {
        "id": "oPejaxNgP6dq"
      }
    },
    {
      "cell_type": "code",
      "source": [
        "# compare standalone models for binary classification\n",
        "from numpy import mean\n",
        "from numpy import std\n",
        "from sklearn.datasets import make_classification\n",
        "from sklearn.model_selection import cross_val_score\n",
        "from sklearn.model_selection import RepeatedStratifiedKFold\n",
        "from sklearn.linear_model import LogisticRegression\n",
        "from sklearn.neighbors import KNeighborsClassifier\n",
        "from sklearn.tree import DecisionTreeClassifier\n",
        "from sklearn.svm import SVC\n",
        "from sklearn.naive_bayes import GaussianNB\n",
        "from matplotlib import pyplot\n",
        "\n",
        "# get the dataset\n",
        "def get_dataset():\n",
        "\tX, y = make_classification(n_samples=1000, n_features=20, n_informative=15, n_redundant=5, random_state=1)\n",
        "\treturn X, y\n",
        "\n",
        "# get a list of models to evaluate\n",
        "def get_models():\n",
        "\tmodels = dict()\n",
        "\tmodels['lr'] = LogisticRegression()\n",
        "\tmodels['knn'] = KNeighborsClassifier()\n",
        "\tmodels['cart'] = DecisionTreeClassifier()\n",
        "\tmodels['svm'] = SVC()\n",
        "\tmodels['bayes'] = GaussianNB()\n",
        "\treturn models\n",
        "\n",
        "# evaluate a given model using cross-validation\n",
        "def evaluate_model(model, X, y):\n",
        "\tcv = RepeatedStratifiedKFold(n_splits=10, n_repeats=3, random_state=1)\n",
        "\tscores = cross_val_score(model, X, y, scoring='accuracy', cv=cv, n_jobs=-1, error_score='raise')\n",
        "\treturn scores\n",
        "\n",
        "# define dataset\n",
        "X, y = get_dataset()\n",
        "# get the models to evaluate\n",
        "models = get_models()\n",
        "# evaluate the models and store results\n",
        "results, names = list(), list()\n",
        "for name, model in models.items():\n",
        "\tscores = evaluate_model(model, X, y)\n",
        "\tresults.append(scores)\n",
        "\tnames.append(name)\n",
        "\tprint('>%s %.3f (%.3f)' % (name, mean(scores), std(scores)))\n",
        "# plot model performance for comparison\n",
        "pyplot.boxplot(results, labels=names, showmeans=True)\n",
        "pyplot.show()"
      ],
      "metadata": {
        "colab": {
          "base_uri": "https://localhost:8080/",
          "height": 520
        },
        "id": "2h8M-nyHP854",
        "outputId": "137cf1ee-a35e-4918-90ee-dad61d9f2a8e"
      },
      "execution_count": null,
      "outputs": [
        {
          "output_type": "stream",
          "name": "stdout",
          "text": [
            ">lr 0.866 (0.029)\n",
            ">knn 0.931 (0.025)\n",
            ">cart 0.822 (0.043)\n",
            ">svm 0.957 (0.020)\n",
            ">bayes 0.833 (0.031)\n"
          ]
        },
        {
          "output_type": "display_data",
          "data": {
            "text/plain": [
              "<Figure size 640x480 with 1 Axes>"
            ],
            "image/png": "[encoded data removed]"
          },
          "metadata": {}
        }
      ]
    },
    {
      "cell_type": "markdown",
      "source": [
        "Ejecutar el ejemplo primero informa la precisión de la desviación media y estándar para cada modelo.\n",
        "\n",
        "**Nota:** Sus resultados pueden variar dada la naturaleza estocástica del algoritmo o procedimiento de evaluación, o las diferencias en la precisión numérica. Considere ejecutar el ejemplo varias veces y compare el resultado promedio.\n",
        "\n",
        "Podemos ver que, en este caso, SVM funciona mejor con una precisión media de alrededor del 95,7 por ciento.\n",
        "\n",
        "A continuación, se crea un gráfico de caja y bigotes que compara las puntuaciones de precisión de la distribución para cada modelo, lo que nos permite ver claramente que KNN y SVM funcionan mejor en promedio que LR, CART y Bayes."
      ],
      "metadata": {
        "id": "zgYAS6t9QEc2"
      }
    },
    {
      "cell_type": "markdown",
      "source": [
        "Aquí tenemos cinco algoritmos diferentes que funcionan bien, presumiblemente de diferentes maneras en este conjunto de datos.\n",
        "\n",
        "A continuación, podemos intentar combinar estos cinco modelos en un solo modelo de conjunto mediante el stacking.\n",
        "\n",
        "Podemos usar un modelo de regresión logística para aprender cómo combinar mejor las predicciones de cada uno de los cinco modelos separados.\n",
        "\n",
        "La siguiente función get_stacking() define el modelo StackingClassifier definiendo primero una lista de tuplas para los cinco modelos base y luego definiendo el metamodelo de regresión logística para combinar las predicciones de los modelos base mediante una validación cruzada de 5 veces."
      ],
      "metadata": {
        "id": "E0DlbIyTQSNT"
      }
    },
    {
      "cell_type": "code",
      "source": [
        "# get a stacking ensemble of models\n",
        "def get_stacking():\n",
        "\t# define the base models\n",
        "\tlevel0 = list()\n",
        "\tlevel0.append(('lr', LogisticRegression()))\n",
        "\tlevel0.append(('knn', KNeighborsClassifier()))\n",
        "\tlevel0.append(('cart', DecisionTreeClassifier()))\n",
        "\tlevel0.append(('svm', SVC()))\n",
        "\tlevel0.append(('bayes', GaussianNB()))\n",
        "\t# define meta learner model\n",
        "\tlevel1 = LogisticRegression()\n",
        "\t# define the stacking ensemble\n",
        "\tmodel = StackingClassifier(estimators=level0, final_estimator=level1, cv=5)\n",
        "\treturn model"
      ],
      "metadata": {
        "id": "ZnqC-HI1QZuG"
      },
      "execution_count": null,
      "outputs": []
    },
    {
      "cell_type": "markdown",
      "source": [
        "Podemos incluir el stacking ensemble en la lista de modelos para evaluar, junto con los modelos independientes."
      ],
      "metadata": {
        "id": "wRphu0sRQhhg"
      }
    },
    {
      "cell_type": "code",
      "source": [
        "# get a list of models to evaluate\n",
        "def get_models():\n",
        "\tmodels = dict()\n",
        "\tmodels['lr'] = LogisticRegression()\n",
        "\tmodels['knn'] = KNeighborsClassifier()\n",
        "\tmodels['cart'] = DecisionTreeClassifier()\n",
        "\tmodels['svm'] = SVC()\n",
        "\tmodels['bayes'] = GaussianNB()\n",
        "\tmodels['stacking'] = get_stacking()\n",
        "\treturn models"
      ],
      "metadata": {
        "id": "S6JRGQslQjzn"
      },
      "execution_count": null,
      "outputs": []
    },
    {
      "cell_type": "markdown",
      "source": [
        "Nuestra expectativa es que el stacking ensemble funcione mejor que cualquier modelo base único.\n",
        "\n",
        "Este no es siempre el caso y, si no es así, entonces se debe usar el modelo base en favor del modelo de conjunto.\n",
        "\n",
        "El ejemplo completo de evaluación del modelo de stacking ensemble junto con los modelos independientes se enumera a continuación."
      ],
      "metadata": {
        "id": "k-NQnk-FQsWH"
      }
    },
    {
      "cell_type": "code",
      "source": [
        "# compare ensemble to each baseline classifier\n",
        "from numpy import mean\n",
        "from numpy import std\n",
        "from sklearn.datasets import make_classification\n",
        "from sklearn.model_selection import cross_val_score\n",
        "from sklearn.model_selection import RepeatedStratifiedKFold\n",
        "from sklearn.linear_model import LogisticRegression\n",
        "from sklearn.neighbors import KNeighborsClassifier\n",
        "from sklearn.tree import DecisionTreeClassifier\n",
        "from sklearn.svm import SVC\n",
        "from sklearn.naive_bayes import GaussianNB\n",
        "from sklearn.ensemble import StackingClassifier\n",
        "from matplotlib import pyplot\n",
        "\n",
        "# get the dataset\n",
        "def get_dataset():\n",
        "\tX, y = make_classification(n_samples=1000, n_features=20, n_informative=15, n_redundant=5, random_state=1)\n",
        "\treturn X, y\n",
        "\n",
        "# get a stacking ensemble of models\n",
        "def get_stacking():\n",
        "\t# define the base models\n",
        "\tlevel0 = list()\n",
        "\tlevel0.append(('lr', LogisticRegression()))\n",
        "\tlevel0.append(('knn', KNeighborsClassifier()))\n",
        "\tlevel0.append(('cart', DecisionTreeClassifier()))\n",
        "\tlevel0.append(('svm', SVC()))\n",
        "\tlevel0.append(('bayes', GaussianNB()))\n",
        "\t# define meta learner model\n",
        "\tlevel1 = LogisticRegression()\n",
        "\t# define the stacking ensemble\n",
        "\tmodel = StackingClassifier(estimators=level0, final_estimator=level1, cv=5)\n",
        "\treturn model\n",
        "\n",
        "# get a list of models to evaluate\n",
        "def get_models():\n",
        "\tmodels = dict()\n",
        "\tmodels['lr'] = LogisticRegression()\n",
        "\tmodels['knn'] = KNeighborsClassifier()\n",
        "\tmodels['cart'] = DecisionTreeClassifier()\n",
        "\tmodels['svm'] = SVC()\n",
        "\tmodels['bayes'] = GaussianNB()\n",
        "\tmodels['stacking'] = get_stacking()\n",
        "\treturn models\n",
        "\n",
        "# evaluate a give model using cross-validation\n",
        "def evaluate_model(model, X, y):\n",
        "\tcv = RepeatedStratifiedKFold(n_splits=10, n_repeats=3, random_state=1)\n",
        "\tscores = cross_val_score(model, X, y, scoring='accuracy', cv=cv, n_jobs=-1, error_score='raise')\n",
        "\treturn scores\n",
        "\n",
        "# define dataset\n",
        "X, y = get_dataset()\n",
        "# get the models to evaluate\n",
        "models = get_models()\n",
        "# evaluate the models and store results\n",
        "results, names = list(), list()\n",
        "for name, model in models.items():\n",
        "\tscores = evaluate_model(model, X, y)\n",
        "\tresults.append(scores)\n",
        "\tnames.append(name)\n",
        "\tprint('>%s %.3f (%.3f)' % (name, mean(scores), std(scores)))\n",
        "# plot model performance for comparison\n",
        "pyplot.boxplot(results, labels=names, showmeans=True)\n",
        "pyplot.show()"
      ],
      "metadata": {
        "colab": {
          "base_uri": "https://localhost:8080/",
          "height": 538
        },
        "id": "aa79a2kfQvSX",
        "outputId": "4c3460d7-5d3a-49f1-ac9c-1bc56273be71"
      },
      "execution_count": null,
      "outputs": [
        {
          "output_type": "stream",
          "name": "stdout",
          "text": [
            ">lr 0.866 (0.029)\n",
            ">knn 0.931 (0.025)\n",
            ">cart 0.822 (0.044)\n",
            ">svm 0.957 (0.020)\n",
            ">bayes 0.833 (0.031)\n",
            ">stacking 0.964 (0.020)\n"
          ]
        },
        {
          "output_type": "display_data",
          "data": {
            "text/plain": [
              "<Figure size 640x480 with 1 Axes>"
            ],
            "image/png": "[encoded data removed]"
          },
          "metadata": {}
        }
      ]
    },
    {
      "cell_type": "markdown",
      "source": [
        "Ejecutar el ejemplo primero informa el rendimiento de cada modelo. Esto incluye el desempeño de cada modelo base, luego el stacking ensemble.\n",
        "\n",
        "**Nota:** Nuestros resultados pueden variar dada la naturaleza estocástica del algoritmo o procedimiento de evaluación, o las diferencias en la precisión numérica. Consideremos ejecutar el ejemplo varias veces y comparemos el resultado promedio.\n",
        "\n",
        "En este caso, podemos ver que el stacking ensemble parece funcionar mejor que cualquier modelo único en promedio, logrando una precisión de alrededor del 96,4 por ciento.\n",
        "\n",
        "Se crea un diagrama de caja que muestra la distribución de las precisiones de clasificación del modelo.\n",
        "\n",
        "Aquí, podemos ver que la precisión media y mediana para el modelo de stacking se encuentra ligeramente más alta que el modelo SVM."
      ],
      "metadata": {
        "id": "Hi_ffRBGQ2qd"
      }
    },
    {
      "cell_type": "markdown",
      "source": [
        "Si elegimos un stacking ensemble como nuestro modelo final, podemos ajustarlo y usarlo para hacer predicciones sobre nuevos datos como cualquier otro modelo.\n",
        "\n",
        "Primero, el stacking ensemble se ajusta a todos los datos disponibles, luego se puede llamar a la función predict() para hacer predicciones sobre nuevos datos.\n",
        "\n",
        "El siguiente ejemplo demuestra esto en nuestro conjunto de datos de clasificación binaria."
      ],
      "metadata": {
        "id": "y5YP_RAyQ_F0"
      }
    },
    {
      "cell_type": "code",
      "source": [
        "# make a prediction with a stacking ensemble\n",
        "from sklearn.datasets import make_classification\n",
        "from sklearn.ensemble import StackingClassifier\n",
        "from sklearn.linear_model import LogisticRegression\n",
        "from sklearn.neighbors import KNeighborsClassifier\n",
        "from sklearn.tree import DecisionTreeClassifier\n",
        "from sklearn.svm import SVC\n",
        "from sklearn.naive_bayes import GaussianNB\n",
        "# define dataset\n",
        "X, y = make_classification(n_samples=1000, n_features=20, n_informative=15, n_redundant=5, random_state=1)\n",
        "# define the base models\n",
        "level0 = list()\n",
        "level0.append(('lr', LogisticRegression()))\n",
        "level0.append(('knn', KNeighborsClassifier()))\n",
        "level0.append(('cart', DecisionTreeClassifier()))\n",
        "level0.append(('svm', SVC()))\n",
        "level0.append(('bayes', GaussianNB()))\n",
        "# define meta learner model\n",
        "level1 = LogisticRegression()\n",
        "# define the stacking ensemble\n",
        "model = StackingClassifier(estimators=level0, final_estimator=level1, cv=5)\n",
        "# fit the model on all available data\n",
        "model.fit(X, y)\n",
        "# make a prediction for one example\n",
        "data = [[2.47475454,0.40165523,1.68081787,2.88940715,0.91704519,-3.07950644,4.39961206,0.72464273,-4.86563631,-6.06338084,-1.22209949,-0.4699618,1.01222748,-0.6899355,-0.53000581,6.86966784,-3.27211075,-6.59044146,-2.21290585,-3.139579]]\n",
        "yhat = model.predict(data)\n",
        "print('Predicted Class: %d' % (yhat))"
      ],
      "metadata": {
        "colab": {
          "base_uri": "https://localhost:8080/"
        },
        "id": "6BuShApbQ_3_",
        "outputId": "f5fddf11-4ac6-4594-d1cc-94a8b8b47cbf"
      },
      "execution_count": null,
      "outputs": [
        {
          "output_type": "stream",
          "name": "stdout",
          "text": [
            "Predicted Class: 0\n"
          ]
        }
      ]
    },
    {
      "cell_type": "markdown",
      "source": [
        "Ejecutar el ejemplo ajusta el modelo de stacking ensemble en todo el conjunto de datos y luego se usa para hacer una predicción en una nueva fila de datos, como lo haríamos cuando usamos el modelo en una aplicación."
      ],
      "metadata": {
        "id": "42_k_lADRJzU"
      }
    },
    {
      "cell_type": "markdown",
      "source": [
        "**Stacking para regresión:**\n",
        "\n",
        "En esta sección, veremos el uso del stacking para un problema de regresión.\n",
        "\n",
        "Primero, podemos usar la función make_regression() para crear un problema de regresión sintética con 1000 ejemplos y 20 características de entrada.\n",
        "\n",
        "El ejemplo completo se muestra a continuación.\n",
        "\n",
        "# conjunto de datos de regresión de prueba\n",
        "desde sklearn.datasets import make_regression\n",
        "# definir conjunto de datos\n",
        "X, y = make_regression(n_samples=1000, n_features=20, n_informative=15, noise=0.1, random_state=1)\n",
        "# resumir el conjunto de datos\n",
        "imprimir (forma X, forma Y)\n",
        "Ejecutar el ejemplo crea el conjunto de datos y resume la forma de los componentes de entrada y salida.\n",
        "\n",
        "(1000, 20) (1000,)\n",
        "A continuación, podemos evaluar un conjunto de diferentes modelos de aprendizaje automático en el conjunto de datos.\n",
        "\n",
        "En concreto, evaluaremos los siguientes tres algoritmos:\n",
        "\n",
        "k-Vecinos más cercanos.\n",
        "\n",
        "Árbol de decisión.\n",
        "\n",
        "Soporte de regresión vectorial.\n",
        "\n",
        "**Nota:** El conjunto de datos de prueba se puede resolver de manera trivial usando un modelo de regresión lineal, ya que el conjunto de datos se creó usando un modelo lineal oculto. Como tal, dejaremos este modelo fuera del ejemplo para que podamos demostrar el beneficio del método de stacking ensemble.\n",
        "\n",
        "Cada algoritmo se evaluará utilizando los hiperparámetros del modelo predeterminado. La función get_models() a continuación crea los modelos que deseamos evaluar."
      ],
      "metadata": {
        "id": "mhX7EHIWRTjB"
      }
    },
    {
      "cell_type": "code",
      "source": [
        "# get a list of models to evaluate\n",
        "def get_models():\n",
        "\tmodels = dict()\n",
        "\tmodels['knn'] = KNeighborsRegressor()\n",
        "\tmodels['cart'] = DecisionTreeRegressor()\n",
        "\tmodels['svm'] = SVR()\n",
        "\treturn models"
      ],
      "metadata": {
        "id": "X-Q8corRRhNE"
      },
      "execution_count": null,
      "outputs": []
    },
    {
      "cell_type": "markdown",
      "source": [
        "Cada modelo se evaluará utilizando una validación cruzada repetida de k-fold. La función evaluar_modelo () a continuación toma una instancia de modelo y devuelve una lista de puntajes de tres repeticiones de validación cruzada de 10 veces"
      ],
      "metadata": {
        "id": "siBVhKf-Txce"
      }
    },
    {
      "cell_type": "code",
      "source": [
        "# evaluate a given model using cross-validation\n",
        "def evaluate_model(model, X, y):\n",
        "\tcv = RepeatedKFold(n_splits=10, n_repeats=3, random_state=1)\n",
        "\tscores = cross_val_score(model, X, y, scoring='neg_mean_absolute_error', cv=cv, n_jobs=-1, error_score='raise')\n",
        "\treturn scores"
      ],
      "metadata": {
        "id": "Qk_5KgwqT2Ge"
      },
      "execution_count": null,
      "outputs": []
    },
    {
      "cell_type": "markdown",
      "source": [
        "Luego podemos informar el rendimiento medio de cada algoritmo y también crear un diagrama de caja y bigotes para comparar la distribución de las puntuaciones de precisión para cada algoritmo.\n",
        "\n",
        "En este caso, el rendimiento del modelo se informará utilizando el error absoluto medio (MAE). La biblioteca scikit-learn invierte el signo de este error para maximizarlo, de -infinito a 0 para obtener la mejor puntuación.\n",
        "\n",
        "Uniendo esto, el ejemplo completo se enumera a continuación."
      ],
      "metadata": {
        "id": "h2-Gsz6JT78p"
      }
    },
    {
      "cell_type": "code",
      "source": [
        "# compare machine learning models for regression\n",
        "from numpy import mean\n",
        "from numpy import std\n",
        "from sklearn.datasets import make_regression\n",
        "from sklearn.model_selection import cross_val_score\n",
        "from sklearn.model_selection import RepeatedKFold\n",
        "from sklearn.linear_model import LinearRegression\n",
        "from sklearn.neighbors import KNeighborsRegressor\n",
        "from sklearn.tree import DecisionTreeRegressor\n",
        "from sklearn.svm import SVR\n",
        "from matplotlib import pyplot\n",
        "\n",
        "# get the dataset\n",
        "def get_dataset():\n",
        "\tX, y = make_regression(n_samples=1000, n_features=20, n_informative=15, noise=0.1, random_state=1)\n",
        "\treturn X, y\n",
        "\n",
        "# get a list of models to evaluate\n",
        "def get_models():\n",
        "\tmodels = dict()\n",
        "\tmodels['knn'] = KNeighborsRegressor()\n",
        "\tmodels['cart'] = DecisionTreeRegressor()\n",
        "\tmodels['svm'] = SVR()\n",
        "\treturn models\n",
        "\n",
        "# evaluate a given model using cross-validation\n",
        "def evaluate_model(model, X, y):\n",
        "\tcv = RepeatedKFold(n_splits=10, n_repeats=3, random_state=1)\n",
        "\tscores = cross_val_score(model, X, y, scoring='neg_mean_absolute_error', cv=cv, n_jobs=-1, error_score='raise')\n",
        "\treturn scores\n",
        "\n",
        "# define dataset\n",
        "X, y = get_dataset()\n",
        "# get the models to evaluate\n",
        "models = get_models()\n",
        "# evaluate the models and store results\n",
        "results, names = list(), list()\n",
        "for name, model in models.items():\n",
        "\tscores = evaluate_model(model, X, y)\n",
        "\tresults.append(scores)\n",
        "\tnames.append(name)\n",
        "\tprint('>%s %.3f (%.3f)' % (name, mean(scores), std(scores)))\n",
        "# plot model performance for comparison\n",
        "pyplot.boxplot(results, labels=names, showmeans=True)\n",
        "pyplot.show()"
      ],
      "metadata": {
        "colab": {
          "base_uri": "https://localhost:8080/",
          "height": 484
        },
        "id": "u6gi5d9ZT-99",
        "outputId": "403ef7fa-125c-4a32-9ba2-d165abd1063a"
      },
      "execution_count": null,
      "outputs": [
        {
          "output_type": "stream",
          "name": "stdout",
          "text": [
            ">knn -101.019 (7.161)\n",
            ">cart -147.326 (9.798)\n",
            ">svm -162.419 (12.565)\n"
          ]
        },
        {
          "output_type": "display_data",
          "data": {
            "text/plain": [
              "<Figure size 640x480 with 1 Axes>"
            ],
            "image/png": "[encoded data removed]"
          },
          "metadata": {}
        }
      ]
    },
    {
      "cell_type": "markdown",
      "source": [
        "Ejecutar el ejemplo primero informa la media y la desviación estándar MAE para cada modelo.\n",
        "\n",
        "Nota: Sus resultados pueden variar dada la naturaleza estocástica del algoritmo o procedimiento de evaluación, o las diferencias en la precisión numérica. Considere ejecutar el ejemplo varias veces y compare el resultado promedio.\n",
        "\n",
        "Podemos ver que en este caso, KNN funciona mejor con un MAE medio negativo de alrededor de -100.\n",
        "\n",
        "A continuación, se crea un diagrama de caja y bigotes que compara las puntuaciones MAE negativas de distribución para cada modelo."
      ],
      "metadata": {
        "id": "FyJcsQsDULU6"
      }
    },
    {
      "cell_type": "markdown",
      "source": [
        "Aquí tenemos tres algoritmos diferentes que funcionan bien, presumiblemente de diferentes maneras en este conjunto de datos.\n",
        "\n",
        "A continuación, podemos intentar combinar estos tres modelos en un solo modelo de conjunto mediante el stacking.\n",
        "\n",
        "Podemos usar un modelo de regresión lineal para aprender cómo combinar mejor las predicciones de cada uno de los tres modelos separados.\n",
        "\n",
        "La función get_stacking() a continuación define el modelo StackingRegressor definiendo primero una lista de tuplas para los tres modelos base y luego definiendo el metamodelo de regresión lineal para combinar las predicciones de los modelos base usando una validación cruzada de 5 veces"
      ],
      "metadata": {
        "id": "d35OCa3KUdZR"
      }
    },
    {
      "cell_type": "code",
      "source": [
        "# get a stacking ensemble of models\n",
        "def get_stacking():\n",
        "\t# define the base models\n",
        "\tlevel0 = list()\n",
        "\tlevel0.append(('knn', KNeighborsRegressor()))\n",
        "\tlevel0.append(('cart', DecisionTreeRegressor()))\n",
        "\tlevel0.append(('svm', SVR()))\n",
        "\t# define meta learner model\n",
        "\tlevel1 = LinearRegression()\n",
        "\t# define the stacking ensemble\n",
        "\tmodel = StackingRegressor(estimators=level0, final_estimator=level1, cv=5)\n",
        "\treturn model"
      ],
      "metadata": {
        "id": "a4d9S7q9UgqP"
      },
      "execution_count": null,
      "outputs": []
    },
    {
      "cell_type": "markdown",
      "source": [
        "Podemos incluir el stacking ensemble en la lista de modelos para evaluar, junto con los modelos independientes."
      ],
      "metadata": {
        "id": "gzMitIrpUl28"
      }
    },
    {
      "cell_type": "code",
      "source": [
        "# get a list of models to evaluate\n",
        "def get_models():\n",
        "\tmodels = dict()\n",
        "\tmodels['knn'] = KNeighborsRegressor()\n",
        "\tmodels['cart'] = DecisionTreeRegressor()\n",
        "\tmodels['svm'] = SVR()\n",
        "\tmodels['stacking'] = get_stacking()\n",
        "\treturn models"
      ],
      "metadata": {
        "id": "9phpf2SfUmgo"
      },
      "execution_count": null,
      "outputs": []
    },
    {
      "cell_type": "markdown",
      "source": [
        "Nuestra expectativa es que el stacking ensemble funcione mejor que cualquier modelo base único.\n",
        "\n",
        "Este no es siempre el caso, y si no es el caso, entonces el modelo base debe usarse a favor del modelo de conjunto.\n",
        "\n",
        "El ejemplo completo de evaluación del modelo de stacking ensemble junto con los modelos independientes se enumera a continuación."
      ],
      "metadata": {
        "id": "PsGneuYpU06L"
      }
    },
    {
      "cell_type": "code",
      "source": [
        "# compare ensemble to each standalone models for regression\n",
        "from numpy import mean\n",
        "from numpy import std\n",
        "from sklearn.datasets import make_regression\n",
        "from sklearn.model_selection import cross_val_score\n",
        "from sklearn.model_selection import RepeatedKFold\n",
        "from sklearn.linear_model import LinearRegression\n",
        "from sklearn.neighbors import KNeighborsRegressor\n",
        "from sklearn.tree import DecisionTreeRegressor\n",
        "from sklearn.svm import SVR\n",
        "from sklearn.ensemble import StackingRegressor\n",
        "from matplotlib import pyplot\n",
        "\n",
        "# get the dataset\n",
        "def get_dataset():\n",
        "\tX, y = make_regression(n_samples=1000, n_features=20, n_informative=15, noise=0.1, random_state=1)\n",
        "\treturn X, y\n",
        "\n",
        "# get a stacking ensemble of models\n",
        "def get_stacking():\n",
        "\t# define the base models\n",
        "\tlevel0 = list()\n",
        "\tlevel0.append(('knn', KNeighborsRegressor()))\n",
        "\tlevel0.append(('cart', DecisionTreeRegressor()))\n",
        "\tlevel0.append(('svm', SVR()))\n",
        "\t# define meta learner model\n",
        "\tlevel1 = LinearRegression()\n",
        "\t# define the stacking ensemble\n",
        "\tmodel = StackingRegressor(estimators=level0, final_estimator=level1, cv=5)\n",
        "\treturn model\n",
        "\n",
        "# get a list of models to evaluate\n",
        "def get_models():\n",
        "\tmodels = dict()\n",
        "\tmodels['knn'] = KNeighborsRegressor()\n",
        "\tmodels['cart'] = DecisionTreeRegressor()\n",
        "\tmodels['svm'] = SVR()\n",
        "\tmodels['stacking'] = get_stacking()\n",
        "\treturn models\n",
        "\n",
        "# evaluate a given model using cross-validation\n",
        "def evaluate_model(model, X, y):\n",
        "\tcv = RepeatedKFold(n_splits=10, n_repeats=3, random_state=1)\n",
        "\tscores = cross_val_score(model, X, y, scoring='neg_mean_absolute_error', cv=cv, n_jobs=-1, error_score='raise')\n",
        "\treturn scores\n",
        "\n",
        "# define dataset\n",
        "X, y = get_dataset()\n",
        "# get the models to evaluate\n",
        "models = get_models()\n",
        "# evaluate the models and store results\n",
        "results, names = list(), list()\n",
        "for name, model in models.items():\n",
        "\tscores = evaluate_model(model, X, y)\n",
        "\tresults.append(scores)\n",
        "\tnames.append(name)\n",
        "\tprint('>%s %.3f (%.3f)' % (name, mean(scores), std(scores)))\n",
        "# plot model performance for comparison\n",
        "pyplot.boxplot(results, labels=names, showmeans=True)\n",
        "pyplot.show()"
      ],
      "metadata": {
        "colab": {
          "base_uri": "https://localhost:8080/",
          "height": 505
        },
        "id": "klUuECPbU3pe",
        "outputId": "8836f187-398c-49dd-9f55-9f51a0c10e07"
      },
      "execution_count": null,
      "outputs": [
        {
          "output_type": "stream",
          "name": "stdout",
          "text": [
            ">knn -101.019 (7.161)\n",
            ">cart -149.184 (10.557)\n",
            ">svm -162.419 (12.565)\n",
            ">stacking -56.680 (5.251)\n"
          ]
        },
        {
          "output_type": "display_data",
          "data": {
            "text/plain": [
              "<Figure size 640x480 with 1 Axes>"
            ],
            "image/png": "[encoded data removed]"
          },
          "metadata": {}
        }
      ]
    },
    {
      "cell_type": "markdown",
      "source": [
        "Ejecutar el ejemplo primero informa el rendimiento de cada modelo. Esto incluye el desempeño de cada modelo base, luego el stacking ensemble.\n",
        "\n",
        "Nota: Sus resultados pueden variar dada la naturaleza estocástica del algoritmo o procedimiento de evaluación, o las diferencias en la precisión numérica. Considere ejecutar el ejemplo varias veces y compare el resultado promedio.\n",
        "\n",
        "En este caso, podemos ver que el stacking ensemble parece funcionar mejor que cualquier modelo individual en promedio, logrando un MAE medio negativo de alrededor de -56.\n",
        "\n",
        "Se crea un diagrama de caja que muestra la distribución de las puntuaciones de error del modelo. Aquí, podemos ver que las puntuaciones media y mediana para el modelo de stacking son mucho más altas que las de cualquier modelo individual."
      ],
      "metadata": {
        "id": "M-4u5zMUU9lO"
      }
    },
    {
      "cell_type": "markdown",
      "source": [
        "Si elegimos un stacking ensemble como nuestro modelo final, podemos ajustarlo y usarlo para hacer predicciones sobre nuevos datos como cualquier otro modelo.\n",
        "\n",
        "Primero, el stacking ensemble se ajusta a todos los datos disponibles, luego se puede llamar a la función predict() para hacer predicciones sobre nuevos datos.\n",
        "\n",
        "El siguiente ejemplo demuestra esto en nuestro conjunto de datos de regresión."
      ],
      "metadata": {
        "id": "BvlwXzE7VEai"
      }
    },
    {
      "cell_type": "code",
      "source": [
        "# make a prediction with a stacking ensemble\n",
        "from sklearn.datasets import make_regression\n",
        "from sklearn.linear_model import LinearRegression\n",
        "from sklearn.neighbors import KNeighborsRegressor\n",
        "from sklearn.tree import DecisionTreeRegressor\n",
        "from sklearn.svm import SVR\n",
        "from sklearn.ensemble import StackingRegressor\n",
        "# define dataset\n",
        "X, y = make_regression(n_samples=1000, n_features=20, n_informative=15, noise=0.1, random_state=1)\n",
        "# define the base models\n",
        "level0 = list()\n",
        "level0.append(('knn', KNeighborsRegressor()))\n",
        "level0.append(('cart', DecisionTreeRegressor()))\n",
        "level0.append(('svm', SVR()))\n",
        "# define meta learner model\n",
        "level1 = LinearRegression()\n",
        "# define the stacking ensemble\n",
        "model = StackingRegressor(estimators=level0, final_estimator=level1, cv=5)\n",
        "# fit the model on all available data\n",
        "model.fit(X, y)\n",
        "# make a prediction for one example\n",
        "data = [[0.59332206,-0.56637507,1.34808718,-0.57054047,-0.72480487,1.05648449,0.77744852,0.07361796,0.88398267,2.02843157,1.01902732,0.11227799,0.94218853,0.26741783,0.91458143,-0.72759572,1.08842814,-0.61450942,-0.69387293,1.69169009]]\n",
        "yhat = model.predict(data)\n",
        "print('Predicted Value: %.3f' % (yhat))"
      ],
      "metadata": {
        "colab": {
          "base_uri": "https://localhost:8080/"
        },
        "id": "MKBNvf9eVLPY",
        "outputId": "e802dcbe-ef72-4ca2-ad55-ccf3d4d4c140"
      },
      "execution_count": null,
      "outputs": [
        {
          "output_type": "stream",
          "name": "stdout",
          "text": [
            "Predicted Value: 557.723\n"
          ]
        }
      ]
    },
    {
      "cell_type": "markdown",
      "source": [
        "Ejecutar el ejemplo ajusta el modelo de stacking ensemble en todo el conjunto de datos y luego se usa para hacer una predicción en una nueva fila de datos, como lo haríamos cuando usamos el modelo en una aplicación."
      ],
      "metadata": {
        "id": "7fIfvGarVRzv"
      }
    }
  ]
}